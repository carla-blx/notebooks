{
 "cells": [
  {
   "cell_type": "markdown",
   "id": "cecda3ee",
   "metadata": {},
   "source": [
    "# <span style=\"color:red\">Problema de 8 reynas</span>"
   ]
  },
  {
   "cell_type": "markdown",
   "id": "ae68d235",
   "metadata": {},
   "source": [
    "**Integrantes**\n",
    "\n",
    "- Carla Andrea Chavez Paucar - 20220760\n",
    "- Paola Judith Condor Montes - 20220762"
   ]
  },
  {
   "cell_type": "markdown",
   "id": "623188b8",
   "metadata": {},
   "source": [
    "El problema de las 8 reinas consiste en colocar 8 reinas en un tablero de ajedrez de 8x8 de manera que ninguna reina pueda atacar a otra."
   ]
  },
  {
   "cell_type": "markdown",
   "id": "0c37fc63",
   "metadata": {},
   "source": [
    "## Código en Python para el Problema de las 8 Reinas"
   ]
  },
  {
   "cell_type": "code",
   "execution_count": 21,
   "id": "a492eed1",
   "metadata": {},
   "outputs": [
    {
     "name": "stdout",
     "output_type": "stream",
     "text": [
      ".  .  .  .  Q  .  .  . \n",
      ".  .  .  .  .  .  Q  . \n",
      ".  .  .  Q  .  .  .  . \n",
      "Q  .  .  .  .  .  .  . \n",
      ".  .  Q  .  .  .  .  . \n",
      ".  .  .  .  .  .  .  Q \n",
      ".  .  .  .  .  Q  .  . \n",
      ".  Q  .  .  .  .  .  . \n",
      "\n"
     ]
    }
   ],
   "source": [
    "import random\n",
    "\n",
    "# Función para verificar si una solución es válida\n",
    "# Esta función comprueba si una solución (una disposición de reinas en un tablero de ajedrez) es válida,\n",
    "# es decir, que no haya reinas atacándose mutuamente.\n",
    "def es_valida(solucion):\n",
    "    for i in range(len(solucion)):\n",
    "        for j in range(i+1, len(solucion)):\n",
    "            if solucion[i] == solucion[j]:  # Verifica si dos reinas están en la misma fila\n",
    "                return False\n",
    "            if abs(solucion[i] - solucion[j]) == abs(i - j):  # Verifica si dos reinas están en la misma diagonal\n",
    "                return False\n",
    "    return True\n",
    "\n",
    "# Función para generar una población inicial\n",
    "# Genera una población inicial de soluciones aleatorias. En este caso, cada solución es una permutación\n",
    "# de los números del 0 al 7, representando las posiciones de las reinas en un tablero 8x8.\n",
    "def generar_poblacion(tam_poblacion):\n",
    "    poblacion = []\n",
    "    for _ in range(tam_poblacion):\n",
    "        solucion = random.sample(range(8), 8)\n",
    "        poblacion.append(solucion)\n",
    "    return poblacion\n",
    "\n",
    "# Función de aptitud\n",
    "# Calcula la aptitud de una solución. Una aptitud más alta indica menos conflictos entre reinas.\n",
    "# El objetivo es maximizar esta aptitud.\n",
    "def aptitud(solucion):\n",
    "    total = 0\n",
    "    for i in range(len(solucion)):\n",
    "        for j in range(i+1, len(solucion)):\n",
    "            if solucion[i] == solucion[j]:  # Penaliza las reinas en la misma fila\n",
    "                total += 1\n",
    "            if abs(solucion[i] - solucion[j]) == abs(i - j):  # Penaliza las reinas en la misma diagonal\n",
    "                total += 1\n",
    "    return 28 - total  # 28 es el número máximo de pares de reinas en un tablero de 8x8\n",
    "\n",
    "# Función de cruce\n",
    "# Genera dos nuevos individuos (hijos) intercambiando segmentos de dos padres. \n",
    "# El punto de cruce es seleccionado aleatoriamente.\n",
    "def cruce(padre1, padre2):\n",
    "    punto_cruce = random.randint(1, 6)\n",
    "    hijo1 = padre1[:punto_cruce] + padre2[punto_cruce:]\n",
    "    hijo2 = padre2[:punto_cruce] + padre1[punto_cruce:]\n",
    "    return hijo1, hijo2\n",
    "\n",
    "# Función de mutación\n",
    "# Realiza una mutación en una solución intercambiando dos posiciones de reinas seleccionadas aleatoriamente.\n",
    "def mutacion(solucion):\n",
    "    solucion_mutada = solucion[:]\n",
    "    indice1, indice2 = random.sample(range(8), 2)\n",
    "    solucion_mutada[indice1], solucion_mutada[indice2] = solucion_mutada[indice2], solucion_mutada[indice1]\n",
    "    return solucion_mutada\n",
    "\n",
    "# Función para imprimir el tablero\n",
    "# Muestra gráficamente la disposición de las reinas en el tablero.\n",
    "def imprimir_tablero(solucion):\n",
    "    tablero = [[\". \" for _ in range(8)] for _ in range(8)]\n",
    "    for i in range(8):\n",
    "        tablero[i][solucion[i]] = \"Q \"\n",
    "    for fila in tablero:\n",
    "        print(\" \".join(fila))\n",
    "    print()\n",
    "\n",
    "# Algoritmo Genético\n",
    "# Implementa el algoritmo genético para resolver el problema de las 8 reinas. \n",
    "# Este algoritmo evoluciona una población de soluciones a través de generaciones, aplicando selección, cruce y mutación.\n",
    "def algoritmo_genetico(tam_poblacion, num_generaciones, tasa_mutacion):\n",
    "    mejor_solucion = None\n",
    "    generacion = 0\n",
    "    while not mejor_solucion and generacion < num_generaciones:\n",
    "        poblacion = generar_poblacion(tam_poblacion)\n",
    "        for _ in range(num_generaciones):\n",
    "            aptitudes = [aptitud(solucion) for solucion in poblacion]  # Evalúa la aptitud de cada solución\n",
    "            padres = [poblacion[i] for i in sorted(range(len(poblacion)), key=lambda k: aptitudes[k], reverse=True)[:tam_poblacion//2]]\n",
    "            # Selección de los mejores individuos (padres) para reproducirse\n",
    "            hijos = []\n",
    "            while len(hijos) < tam_poblacion:\n",
    "                padre1, padre2 = random.sample(padres, 2)\n",
    "                hijo1, hijo2 = cruce(padre1, padre2)  # Cruce\n",
    "                if random.random() < tasa_mutacion:\n",
    "                    hijo1 = mutacion(hijo1)  # Mutación\n",
    "                if random.random() < tasa_mutacion:\n",
    "                    hijo2 = mutacion(hijo2)  # Mutación\n",
    "                hijos.append(hijo1)\n",
    "                hijos.append(hijo2)\n",
    "            poblacion = hijos\n",
    "            mejor_solucion = max(poblacion, key=aptitud)  # Selecciona la mejor solución actual\n",
    "            if es_valida(mejor_solucion):  # Comprueba si la mejor solución es válida\n",
    "                imprimir_tablero(mejor_solucion)\n",
    "                return mejor_solucion\n",
    "        generacion += 1\n",
    "    print(\"No se encontró una solución válida en el número máximo de generaciones.\")\n",
    "\n",
    "# Ejemplo de uso\n",
    "solucion = algoritmo_genetico(tam_poblacion=100, num_generaciones=1000, tasa_mutacion=0.2)"
   ]
  },
  {
   "cell_type": "markdown",
   "id": "c799c37f",
   "metadata": {},
   "source": [
    "Este código implementa los siguientes elementos de un algoritmo genético:"
   ]
  },
  {
   "cell_type": "markdown",
   "id": "1e93b850",
   "metadata": {},
   "source": [
    "- **Representación:** Cada solución candidata (individuo) se representa como una lista de 8 números, donde cada número representa la posición de una reina en su fila correspondiente.\n",
    "\n",
    "- **Función de aptitud:** La función aptitud calcula el número de pares de reinas que no se atacan entre sí. Una solución perfecta tendría un valor de aptitud de 28.\n",
    "- **Población inicial:** La función generar_poblacion crea una población inicial de soluciones aleatorias.\n",
    "- **Selección:** El código selecciona los individuos más aptos para ser \"padres\" de la próxima generación. Esto se hace ordenando la población por aptitud y seleccionando la mitad superior.\n",
    "- **Cruce:** La función cruce combina dos padres para producir dos hijos, intercambiando parte de sus cromosomas en un punto aleatorio.\n",
    "- **Mutación:** La función mutacion introduce cambios aleatorios en una solución al intercambiar dos posiciones de reinas.\n",
    "- **Reemplazo:** El código reemplaza la población actual con la nueva generación de hijos.\n",
    "- **Criterio de terminación:** El algoritmo se ejecuta durante un número específico de generaciones (num_generaciones) y se detiene si se encuentra una solución válida."
   ]
  },
  {
   "cell_type": "markdown",
   "id": "e9bf6e26",
   "metadata": {},
   "source": [
    "\n",
    "En el ejemplo de uso, se ejecuta el algoritmo genético con una población de 100 individuos, 1000 generaciones y una tasa de mutación del 20%. La solución encontrada se imprime al final."
   ]
  },
  {
   "cell_type": "code",
   "execution_count": null,
   "id": "39818e23",
   "metadata": {},
   "outputs": [],
   "source": []
  }
 ],
 "metadata": {
  "kernelspec": {
   "display_name": "Python 3 (ipykernel)",
   "language": "python",
   "name": "python3"
  },
  "language_info": {
   "codemirror_mode": {
    "name": "ipython",
    "version": 3
   },
   "file_extension": ".py",
   "mimetype": "text/x-python",
   "name": "python",
   "nbconvert_exporter": "python",
   "pygments_lexer": "ipython3",
   "version": "3.9.12"
  }
 },
 "nbformat": 4,
 "nbformat_minor": 5
}
